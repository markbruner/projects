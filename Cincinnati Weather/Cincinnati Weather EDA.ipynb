{
 "cells": [
  {
   "cell_type": "code",
   "execution_count": 29,
   "metadata": {},
   "outputs": [
    {
     "ename": "ModuleNotFoundError",
     "evalue": "No module named 'cleandata'",
     "output_type": "error",
     "traceback": [
      "\u001b[1;31m---------------------------------------------------------------------------\u001b[0m",
      "\u001b[1;31mModuleNotFoundError\u001b[0m                       Traceback (most recent call last)",
      "Cell \u001b[1;32mIn[29], line 4\u001b[0m\n\u001b[0;32m      2\u001b[0m \u001b[38;5;28;01mimport\u001b[39;00m \u001b[38;5;21;01mnumpy\u001b[39;00m \u001b[38;5;28;01mas\u001b[39;00m \u001b[38;5;21;01mnp\u001b[39;00m\n\u001b[0;32m      3\u001b[0m \u001b[38;5;28;01mimport\u001b[39;00m \u001b[38;5;21;01mos\u001b[39;00m\n\u001b[1;32m----> 4\u001b[0m \u001b[38;5;28;01mimport\u001b[39;00m \u001b[38;5;21;01mcleandata\u001b[39;00m\n",
      "\u001b[1;31mModuleNotFoundError\u001b[0m: No module named 'cleandata'"
     ]
    }
   ],
   "source": [
    "import pandas as pd\n",
    "import numpy as np\n",
    "import os"
   ]
  },
  {
   "cell_type": "code",
   "execution_count": 17,
   "metadata": {},
   "outputs": [
    {
     "name": "stdout",
     "output_type": "stream",
     "text": [
      "C:\\Users\\markd\\projects\\Cincinnati Weather\n"
     ]
    }
   ],
   "source": [
    "PATH = r'C:\\Users\\markd\\projects\\Cincinnati Weather'\n",
    "os.chdir(PATH)\n",
    "cwd = os.getcwd()\n",
    "\n",
    "print(cwd)"
   ]
  },
  {
   "cell_type": "code",
   "execution_count": 18,
   "metadata": {},
   "outputs": [
    {
     "name": "stderr",
     "output_type": "stream",
     "text": [
      "C:\\Users\\markd\\AppData\\Local\\Temp\\ipykernel_21548\\3829899408.py:1: DtypeWarning: Columns (3,32,33,42,43,44,50,52,96) have mixed types. Specify dtype option on import or set low_memory=False.\n",
      "  cincy_weather = pd.read_csv('cincy_weather_012014_123123.csv')\n"
     ]
    }
   ],
   "source": [
    "dates = ['DATE']\n",
    "cincy_weather = pd.read_csv('cincy_weather_012014_123123.csv',parse_dates=dates)"
   ]
  },
  {
   "cell_type": "code",
   "execution_count": 23,
   "metadata": {},
   "outputs": [],
   "source": [
    "cincy_weather_clean = cincy_weather.dropna(axis=1,how='all')"
   ]
  },
  {
   "cell_type": "code",
   "execution_count": 46,
   "metadata": {},
   "outputs": [
    {
     "data": {
      "text/plain": [
       "HourlySkyConditions\n",
       "CLR:00        40865\n",
       "VV:09 2        2518\n",
       "VV:09 3         983\n",
       "FEW:02 2        669\n",
       "OVC:08 9        654\n",
       "OVC:08 14       574\n",
       "OVC:08 10       565\n",
       "OVC:08 15       509\n",
       "OVC:08 100      496\n",
       "OVC:08 7        489\n",
       "OVC:08 2        484\n",
       "BKN:07 110      469\n",
       "OVC:08 8        465\n",
       "OVC:08 11       460\n",
       "OVC:08 13       459\n",
       "FEW:02 60       459\n",
       "OVC:08 12       458\n",
       "OVC:08 29       457\n",
       "SCT:04 2        454\n",
       "OVC:08 60       451\n",
       "FEW:02 3        445\n",
       "FEW:02 120      418\n",
       "OVC:08 16       415\n",
       "FEW:02 55       407\n",
       "OVC:08 30       393\n",
       "Name: count, dtype: int64"
      ]
     },
     "execution_count": 46,
     "metadata": {},
     "output_type": "execute_result"
    }
   ],
   "source": [
    "cincy_weather_clean.HourlySkyConditions.value_counts().head(25)"
   ]
  }
 ],
 "metadata": {
  "kernelspec": {
   "display_name": "Python 3",
   "language": "python",
   "name": "python3"
  },
  "language_info": {
   "codemirror_mode": {
    "name": "ipython",
    "version": 3
   },
   "file_extension": ".py",
   "mimetype": "text/x-python",
   "name": "python",
   "nbconvert_exporter": "python",
   "pygments_lexer": "ipython3",
   "version": "3.11.4"
  }
 },
 "nbformat": 4,
 "nbformat_minor": 2
}
